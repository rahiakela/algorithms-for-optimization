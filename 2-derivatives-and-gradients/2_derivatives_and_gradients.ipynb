{
  "nbformat": 4,
  "nbformat_minor": 0,
  "metadata": {
    "colab": {
      "name": "2-derivatives-and-gradients.ipynb",
      "provenance": [],
      "collapsed_sections": [],
      "toc_visible": true,
      "include_colab_link": true
    },
    "kernelspec": {
      "display_name": "Julia",
      "language": "julia",
      "name": "julia"
    },
    "language_info": {
      "file_extension": ".jl",
      "mimetype": "application/julia",
      "name": "julia"
    }
  },
  "cells": [
    {
      "cell_type": "markdown",
      "metadata": {
        "id": "view-in-github",
        "colab_type": "text"
      },
      "source": [
        "<a href=\"https://colab.research.google.com/github/rahiakela/algorithms-for-optimization/blob/main/2-derivatives-and-gradients/2_derivatives_and_gradients.ipynb\" target=\"_parent\"><img src=\"https://colab.research.google.com/assets/colab-badge.svg\" alt=\"Open In Colab\"/></a>"
      ]
    },
    {
      "cell_type": "markdown",
      "metadata": {
        "id": "tQ1r1bbb0yBv"
      },
      "source": [
        "# Derivatives and Gradients\n"
      ]
    },
    {
      "cell_type": "markdown",
      "metadata": {
        "id": "m8pQ2z2k5RBv"
      },
      "source": [
        "**Optimization is concerned with finding the design point that minimizes (or\r\n",
        "maximizes) an objective function.** Knowing how the value of a function changes\r\n",
        "as its input is varied is useful because it tells us in which direction we can move to improve on previous points. **The change in the value of the function is measured by the derivative in one dimension and the gradient in multiple dimensions.**"
      ]
    },
    {
      "cell_type": "markdown",
      "metadata": {
        "id": "TS7WHNiF5RWQ"
      },
      "source": [
        "## Setup"
      ]
    },
    {
      "cell_type": "markdown",
      "metadata": {
        "id": "n6hnhZor5Tac"
      },
      "source": [
        "1. Work on a copy of this notebook: _File_ > _Save a copy in Drive_ (you will need a Google account). Alternatively, you can download the notebook using _File_ > _Download .ipynb_, then upload it to [Colab](https://colab.research.google.com/).\r\n",
        "2. If you need a GPU: _Runtime_ > _Change runtime type_ > _Harware accelerator_ = _GPU_.\r\n",
        "3. Execute the following cell (click on it and press Ctrl+Enter) to install Julia, IJulia and other packages (if needed, update `JULIA_VERSION` and the other parameters). This takes a couple of minutes.\r\n",
        "4. Reload this page (press Ctrl+R, or ⌘+R, or the F5 key) and continue to the next section.\r\n",
        "\r\n",
        "_Notes_:\r\n",
        "* If your Colab Runtime gets reset (e.g., due to inactivity), repeat steps 2, 3 and 4.\r\n",
        "* After installation, if you want to change the Julia version or activate/deactivate the GPU, you will need to reset the Runtime: _Runtime_ > _Factory reset runtime_ and repeat steps 3 and 4."
      ]
    },
    {
      "cell_type": "code",
      "metadata": {
        "id": "GIeFXS0F0zww"
      },
      "source": [
        "%%shell\n",
        "set -e\n",
        "\n",
        "#---------------------------------------------------#\n",
        "JULIA_VERSION=\"1.4.2\" # any version ≥ 0.7.0\n",
        "JULIA_PACKAGES=\"IJulia BenchmarkTools Plots\"\n",
        "JULIA_PACKAGES_IF_GPU=\"CuArrays\"\n",
        "JULIA_NUM_THREADS=2\n",
        "#---------------------------------------------------#\n",
        "\n",
        "if [ -n \"$COLAB_GPU\" ] && [ -z `which julia` ]; then\n",
        "  # Install Julia\n",
        "  JULIA_VER=`cut -d '.' -f -2 <<< \"$JULIA_VERSION\"`\n",
        "  echo \"Installing Julia $JULIA_VERSION on the current Colab Runtime...\"\n",
        "  BASE_URL=\"https://julialang-s3.julialang.org/bin/linux/x64\"\n",
        "  URL=\"$BASE_URL/$JULIA_VER/julia-$JULIA_VERSION-linux-x86_64.tar.gz\"\n",
        "  wget -nv $URL -O /tmp/julia.tar.gz # -nv means \"not verbose\"\n",
        "  tar -x -f /tmp/julia.tar.gz -C /usr/local --strip-components 1\n",
        "  rm /tmp/julia.tar.gz\n",
        "\n",
        "  # Install Packages\n",
        "  if [ \"$COLAB_GPU\" = \"1\" ]; then\n",
        "      JULIA_PACKAGES=\"$JULIA_PACKAGES $JULIA_PACKAGES_IF_GPU\"\n",
        "  fi\n",
        "  for PKG in `echo $JULIA_PACKAGES`; do\n",
        "    echo \"Installing Julia package $PKG...\"\n",
        "    julia -e 'using Pkg; pkg\"add '$PKG'; precompile;\"'\n",
        "  done\n",
        "\n",
        "  # Install kernel and rename it to \"julia\"\n",
        "  echo \"Installing IJulia kernel...\"\n",
        "  julia -e 'using IJulia; IJulia.installkernel(\"julia\", env=Dict(\n",
        "      \"JULIA_NUM_THREADS\"=>\"'\"$JULIA_NUM_THREADS\"'\"))'\n",
        "  KERNEL_DIR=`julia -e \"using IJulia; print(IJulia.kerneldir())\"`\n",
        "  KERNEL_NAME=`ls -d \"$KERNEL_DIR\"/julia*`\n",
        "  mv -f $KERNEL_NAME \"$KERNEL_DIR\"/julia  \n",
        "\n",
        "  echo ''\n",
        "  echo \"Success! Please reload this page and jump to the next section.\"\n",
        "fi"
      ],
      "execution_count": null,
      "outputs": []
    },
    {
      "cell_type": "markdown",
      "metadata": {
        "id": "-OS3Ac017T1i"
      },
      "source": [
        "**Checking the Installation**\n",
        "\n",
        "The `versioninfo()` function should print your Julia version and some other info about the system:"
      ]
    },
    {
      "cell_type": "code",
      "metadata": {
        "id": "EEzvvzCl1i0F",
        "colab": {
          "base_uri": "https://localhost:8080/"
        },
        "outputId": "451e0bb5-23e5-4969-9d75-2848550a6181"
      },
      "source": [
        "versioninfo()"
      ],
      "execution_count": null,
      "outputs": [
        {
          "output_type": "stream",
          "text": [
            "Julia Version 1.4.2\n",
            "Commit 44fa15b150* (2020-05-23 18:35 UTC)\n",
            "Platform Info:\n",
            "  OS: Linux (x86_64-pc-linux-gnu)\n",
            "  CPU: AMD EPYC 7B12\n",
            "  WORD_SIZE: 64\n",
            "  LIBM: libopenlibm\n",
            "  LLVM: libLLVM-8.0.1 (ORCJIT, znver1)\n",
            "Environment:\n",
            "  JULIA_NUM_THREADS = 2\n"
          ],
          "name": "stdout"
        }
      ]
    },
    {
      "cell_type": "markdown",
      "metadata": {
        "id": "fcMhzZ825kCk"
      },
      "source": [
        "Now, let's install SymEngine."
      ]
    },
    {
      "cell_type": "code",
      "metadata": {
        "id": "tdIJCmgp1BOK",
        "colab": {
          "base_uri": "https://localhost:8080/"
        },
        "outputId": "c4d9211a-2d4a-48dd-c129-4d3b2c3f2480"
      },
      "source": [
        "using Pkg\r\n",
        "Pkg.add(\"SymEngine\")"
      ],
      "execution_count": null,
      "outputs": [
        {
          "output_type": "stream",
          "text": [
            "\u001b[32m\u001b[1m   Updating\u001b[22m\u001b[39m registry at `~/.julia/registries/General`\n"
          ],
          "name": "stderr"
        },
        {
          "output_type": "stream",
          "text": [
            "\u001b[?25l\u001b[2K"
          ],
          "name": "stdout"
        },
        {
          "output_type": "stream",
          "text": [
            "\u001b[32m\u001b[1m   Updating\u001b[22m\u001b[39m git-repo `https://github.com/JuliaRegistries/General.git`\n"
          ],
          "name": "stderr"
        },
        {
          "output_type": "stream",
          "text": [
            "\u001b[?25h"
          ],
          "name": "stdout"
        },
        {
          "output_type": "stream",
          "text": [
            "\u001b[32m\u001b[1m  Resolving\u001b[22m\u001b[39m package versions...\n",
            "\u001b[32m\u001b[1m  Installed\u001b[22m\u001b[39m MPC_jll ────────────────────── v1.1.0+0\n",
            "\u001b[32m\u001b[1m  Installed\u001b[22m\u001b[39m OpenSpecFun_jll ────────────── v0.5.3+4\n",
            "\u001b[32m\u001b[1m  Installed\u001b[22m\u001b[39m SymEngine_jll ──────────────── v0.6.0+1\n",
            "\u001b[32m\u001b[1m  Installed\u001b[22m\u001b[39m GMP_jll ────────────────────── v6.1.2+6\n",
            "\u001b[32m\u001b[1m  Installed\u001b[22m\u001b[39m CompilerSupportLibraries_jll ─ v0.3.4+0\n",
            "\u001b[32m\u001b[1m  Installed\u001b[22m\u001b[39m SymEngine ──────────────────── v0.8.3\n",
            "\u001b[32m\u001b[1m  Installed\u001b[22m\u001b[39m SpecialFunctions ───────────── v1.2.1\n",
            "\u001b[32m\u001b[1m  Installed\u001b[22m\u001b[39m ChainRulesCore ─────────────── v0.9.27\n",
            "\u001b[32m\u001b[1m  Installed\u001b[22m\u001b[39m MPFR_jll ───────────────────── v4.0.2+4\n",
            "######################################################################### 100.0%\n",
            "######################################################################### 100.0%\n",
            "######################################################################### 100.0%\n",
            "######################################################################### 100.0%\n",
            "######################################################################### 100.0%\n",
            "######################################################################### 100.0%\n",
            "\u001b[32m\u001b[1m   Updating\u001b[22m\u001b[39m `~/.julia/environments/v1.4/Project.toml`\n",
            " \u001b[90m [123dc426]\u001b[39m\u001b[92m + SymEngine v0.8.3\u001b[39m\n",
            "\u001b[32m\u001b[1m   Updating\u001b[22m\u001b[39m `~/.julia/environments/v1.4/Manifest.toml`\n",
            " \u001b[90m [d360d2e6]\u001b[39m\u001b[92m + ChainRulesCore v0.9.27\u001b[39m\n",
            " \u001b[90m [e66e0078]\u001b[39m\u001b[92m + CompilerSupportLibraries_jll v0.3.4+0\u001b[39m\n",
            " \u001b[90m [781609d7]\u001b[39m\u001b[92m + GMP_jll v6.1.2+6\u001b[39m\n",
            " \u001b[90m [2ce0c516]\u001b[39m\u001b[92m + MPC_jll v1.1.0+0\u001b[39m\n",
            " \u001b[90m [3a97d323]\u001b[39m\u001b[92m + MPFR_jll v4.0.2+4\u001b[39m\n",
            " \u001b[90m [efe28fd5]\u001b[39m\u001b[92m + OpenSpecFun_jll v0.5.3+4\u001b[39m\n",
            " \u001b[90m [276daf66]\u001b[39m\u001b[92m + SpecialFunctions v1.2.1\u001b[39m\n",
            " \u001b[90m [123dc426]\u001b[39m\u001b[92m + SymEngine v0.8.3\u001b[39m\n",
            " \u001b[90m [3428059b]\u001b[39m\u001b[92m + SymEngine_jll v0.6.0+1\u001b[39m\n"
          ],
          "name": "stderr"
        }
      ]
    },
    {
      "cell_type": "markdown",
      "metadata": {
        "id": "P6SMJNXu6Kjo"
      },
      "source": [
        "## Derivatives"
      ]
    },
    {
      "cell_type": "markdown",
      "metadata": {
        "id": "zuJjpuxK6LsQ"
      },
      "source": [
        "The derivative $f^{'}(x)$ of a function $f$ of a single variable x is the rate at which the value of f changes at $x$. It is often visualized, using the tangent line to the graph of the function at $x$. The value of the derivative equals\r\n",
        "the slope of the tangent line.\r\n",
        "\r\n",
        "<img src='https://github.com/rahiakela/img-repo/blob/master/algorithms-for-optimization/tangent-line.png?raw=1' width='800'/>\r\n",
        "\r\n",
        "We can use the derivative to provide a linear approximation of the function\r\n",
        "near x:\r\n",
        "\r\n",
        "$$f(x + \\delta{x}) \\approx f(x) + f^{'}(x) \\delta{x}$$\r\n",
        "\r\n",
        "The derivative is the ratio between the change in $f$ and the change in $x$ at the point $x$:\r\n",
        "\r\n",
        "$$  f^{'}(x) = \\frac{\\delta{f(x)}}  {\\delta{x}} $$\r\n",
        "\r\n",
        "which is the change in $f(x)$ divided by the change in $x$ as the step becomes\r\n",
        "infinitesimally small.\r\n",
        "\r\n",
        "<img src='https://github.com/rahiakela/img-repo/blob/master/algorithms-for-optimization/step-differences.png?raw=1' width='800'/>\r\n",
        "\r\n",
        "The notation $f^{'}(x)$ can be attributed to Lagrange. We also use the notation created by Leibniz,\r\n",
        "\r\n",
        "$$  f^{'}(x) = \\frac{df(x)}  {dx} $$\r\n",
        "\r\n",
        "which emphasizes the fact that the derivative is the ratio of the change in $f$ to the change in $x$ at the point $x$.\r\n",
        "\r\n",
        "The limit equation defining the derivative can be presented in three different\r\n",
        "ways: \r\n",
        "- the forward difference, \r\n",
        "- the central difference, \r\n",
        "- and the backward difference. \r\n",
        "\r\n",
        "Each method uses an infinitely small step size $h$:\r\n",
        "\r\n",
        "<img src='https://github.com/rahiakela/img-repo/blob/master/algorithms-for-optimization/symbolic-differentiation.png?raw=1' width='800'/>\r\n",
        "\r\n",
        "If $f$ can be represented symbolically, symbolic differentiation can often provide an exact analytic expression for $f^{'}$ by applying derivative rules from calculus. The analytic expression can then be evaluated at any point $x$.\r\n",
        "\r\n",
        "\r\n"
      ]
    },
    {
      "cell_type": "code",
      "metadata": {
        "id": "tytAeuaA1eau",
        "colab": {
          "base_uri": "https://localhost:8080/"
        },
        "outputId": "da3c9892-7db7-4350-cf10-5d6ef6a49af0"
      },
      "source": [
        "using SymEngine\r\n",
        "\r\n",
        "# define x as a symbolic variable\r\n",
        "@vars x;\r\n",
        "f = x ^ 2 + x / 2 - sin(x) / x;\r\n",
        "diff(f, x)"
      ],
      "execution_count": null,
      "outputs": [
        {
          "output_type": "execute_result",
          "data": {
            "text/plain": [
              "1/2 + 2*x + sin(x)/x^2 - cos(x)/x"
            ]
          },
          "metadata": {
            "tags": []
          },
          "execution_count": 8
        }
      ]
    },
    {
      "cell_type": "markdown",
      "metadata": {
        "id": "Py96INTlCXnT"
      },
      "source": [
        "## Derivatives in Multiple Dimensions"
      ]
    },
    {
      "cell_type": "markdown",
      "metadata": {
        "id": "2WeCWQcUCY8M"
      },
      "source": [
        ""
      ]
    }
  ]
}
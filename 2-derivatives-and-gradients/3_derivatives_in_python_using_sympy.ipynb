{
  "nbformat": 4,
  "nbformat_minor": 0,
  "metadata": {
    "colab": {
      "name": "3-derivatives-in-python-using-sympy.ipynb",
      "provenance": [],
      "collapsed_sections": [],
      "toc_visible": true,
      "include_colab_link": true
    },
    "kernelspec": {
      "display_name": "Julia",
      "language": "julia",
      "name": "julia"
    },
    "language_info": {
      "file_extension": ".jl",
      "mimetype": "application/julia",
      "name": "julia"
    }
  },
  "cells": [
    {
      "cell_type": "markdown",
      "metadata": {
        "id": "view-in-github",
        "colab_type": "text"
      },
      "source": [
        "<a href=\"https://colab.research.google.com/github/rahiakela/algorithms-for-optimization/blob/main/2-derivatives-and-gradients/3_derivatives_in_python_using_sympy.ipynb\" target=\"_parent\"><img src=\"https://colab.research.google.com/assets/colab-badge.svg\" alt=\"Open In Colab\"/></a>"
      ]
    },
    {
      "cell_type": "markdown",
      "metadata": {
        "id": "tQ1r1bbb0yBv"
      },
      "source": [
        "# Derivatives in Python Using Sympy\n"
      ]
    },
    {
      "cell_type": "markdown",
      "metadata": {
        "id": "m8pQ2z2k5RBv"
      },
      "source": [
        "Derivatives are the Fundamental tools of Calculus. It is very useful for optimizing a loss function with gradient descent in Machine Learning is possible only because of derivatives.\r\n",
        "\r\n",
        "Suppose we have a function y = f(x) which is dependent on x then the derivation of this function means the rate at which the value y of the function changes with change in x.\r\n",
        "\r\n",
        "Reference: https://www.askpython.com/python/examples/derivatives-in-python-sympy"
      ]
    },
    {
      "cell_type": "markdown",
      "metadata": {
        "id": "TS7WHNiF5RWQ"
      },
      "source": [
        "## Setup"
      ]
    },
    {
      "cell_type": "code",
      "metadata": {
        "id": "GIeFXS0F0zww"
      },
      "source": [
        "from sympy import *"
      ],
      "execution_count": null,
      "outputs": []
    },
    {
      "cell_type": "markdown",
      "metadata": {
        "id": "P6SMJNXu6Kjo"
      },
      "source": [
        "## Solving a differential with Sympy diff()"
      ]
    },
    {
      "cell_type": "markdown",
      "metadata": {
        "id": "zuJjpuxK6LsQ"
      },
      "source": [
        "For differentiation, sympy provides us with the diff method to output the derivative of the function.\r\n",
        "\r\n",
        "- Suppose we have a function: $f(x) = x^²$\r\n",
        "- Derivative of the function w.r.t x : $f^{'}(x) = 2x$"
      ]
    },
    {
      "cell_type": "code",
      "metadata": {
        "id": "tytAeuaA1eau",
        "colab": {
          "base_uri": "https://localhost:8080/"
        },
        "outputId": "03733087-bd93-4919-dcde-e11ced536fb0"
      },
      "source": [
        "# create a \"symbol\" called x\r\n",
        "x = Symbol(\"x\")\r\n",
        "\r\n",
        "# Define function\r\n",
        "f = x**2\r\n",
        "\r\n",
        "# Calculating Derivative\r\n",
        "f_prime = diff(f, x)\r\n",
        "f_prime"
      ],
      "execution_count": null,
      "outputs": [
        {
          "output_type": "execute_result",
          "data": {
            "text/plain": [
              "2*x"
            ]
          },
          "metadata": {
            "tags": []
          },
          "execution_count": 16
        }
      ]
    },
    {
      "cell_type": "markdown",
      "metadata": {
        "id": "Py96INTlCXnT"
      },
      "source": [
        "## Solving derivatives in Python"
      ]
    },
    {
      "cell_type": "markdown",
      "metadata": {
        "id": "2WeCWQcUCY8M"
      },
      "source": [
        "Now to calculate the derivative of the function at x = 2 sympy has lambdify function in which we pass the symbol and the function."
      ]
    },
    {
      "cell_type": "code",
      "metadata": {
        "colab": {
          "base_uri": "https://localhost:8080/"
        },
        "id": "2bf6pCBxONOS",
        "outputId": "f0ab0a36-469e-42a8-8746-d2b471550be0"
      },
      "source": [
        "# create a \"symbol\" called x\r\n",
        "x = Symbol(\"x\")\r\n",
        "\r\n",
        "# Define function\r\n",
        "f = x**2\r\n",
        "\r\n",
        "# Do Calculation\r\n",
        "f_prime = lambdify(x, f)\r\n",
        "\r\n",
        "# passing x=2 to the function\r\n",
        "f_prime(2)"
      ],
      "execution_count": null,
      "outputs": [
        {
          "output_type": "execute_result",
          "data": {
            "text/plain": [
              "4"
            ]
          },
          "metadata": {
            "tags": []
          },
          "execution_count": 18
        }
      ]
    },
    {
      "cell_type": "markdown",
      "metadata": {
        "id": "NFMwO7j2Orf1"
      },
      "source": [
        "## Basic Derivative Rules in Python sympy"
      ]
    },
    {
      "cell_type": "markdown",
      "metadata": {
        "id": "-IkIsTkwOshS"
      },
      "source": [
        "There are certain rules we can use to calculate the derivative of differentiable functions.\r\n",
        "\r\n",
        "**Some of the most encountered rules are:**\r\n",
        "\r\n",
        "- Power Rule\r\n",
        "- Product Rule\r\n",
        "- Chain Rule\r\n",
        "- Quotient Rule\r\n",
        "\r\n",
        "Let’s dive into how can we actually use sympy to calculate derivatives as implied by the general differentiation rules."
      ]
    },
    {
      "cell_type": "markdown",
      "metadata": {
        "id": "rsWtC4bxPDul"
      },
      "source": [
        "### 1. Power Rule"
      ]
    },
    {
      "cell_type": "markdown",
      "metadata": {
        "id": "kPemuuvAPGrP"
      },
      "source": [
        "In general : $f^{'}(xn) = nx^{(n-1)}$\r\n",
        "\r\n",
        "Example, Function we have : $f(x) = x^5$\r\n",
        "\r\n",
        "It’s derivative will be : $f^{'}(x) = 5x^{(5-1)} = 5x^4$"
      ]
    },
    {
      "cell_type": "code",
      "metadata": {
        "colab": {
          "base_uri": "https://localhost:8080/"
        },
        "id": "WnJFkgLAOdal",
        "outputId": "1c3c8f3e-16d7-4d31-9446-6cc53981cc2d"
      },
      "source": [
        "# create a \"symbol\" called x\r\n",
        "x = Symbol(\"x\")\r\n",
        "\r\n",
        "# Define function\r\n",
        "f = x**5\r\n",
        "\r\n",
        "# Calculating Derivative\r\n",
        "f_prime = diff(f, x)\r\n",
        "f_prime"
      ],
      "execution_count": null,
      "outputs": [
        {
          "output_type": "execute_result",
          "data": {
            "text/plain": [
              "5*x**4"
            ]
          },
          "metadata": {
            "tags": []
          },
          "execution_count": 19
        }
      ]
    },
    {
      "cell_type": "code",
      "metadata": {
        "colab": {
          "base_uri": "https://localhost:8080/"
        },
        "id": "rPdnVezLP_LS",
        "outputId": "4180a546-0bd3-4365-8044-f82e2f8d2ca6"
      },
      "source": [
        "# Do Calculation\r\n",
        "f_p = lambdify(x, f_prime)\r\n",
        "\r\n",
        "# passing x=2 to the function\r\n",
        "f_p(2)"
      ],
      "execution_count": null,
      "outputs": [
        {
          "output_type": "execute_result",
          "data": {
            "text/plain": [
              "80"
            ]
          },
          "metadata": {
            "tags": []
          },
          "execution_count": 21
        }
      ]
    },
    {
      "cell_type": "code",
      "metadata": {
        "colab": {
          "base_uri": "https://localhost:8080/"
        },
        "id": "n6KOGcYhQElH",
        "outputId": "238a4176-3e22-4862-f9b6-3544c8a2106a"
      },
      "source": [
        "# verify\r\n",
        "x = 2\r\n",
        "5 * x ** 4"
      ],
      "execution_count": null,
      "outputs": [
        {
          "output_type": "execute_result",
          "data": {
            "text/plain": [
              "80"
            ]
          },
          "metadata": {
            "tags": []
          },
          "execution_count": 23
        }
      ]
    },
    {
      "cell_type": "markdown",
      "metadata": {
        "id": "KJHx1-NCQsXG"
      },
      "source": [
        "### 2. Product Rule"
      ]
    },
    {
      "cell_type": "code",
      "metadata": {
        "id": "iJp9L3rdQbWZ"
      },
      "source": [
        ""
      ],
      "execution_count": null,
      "outputs": []
    }
  ]
}
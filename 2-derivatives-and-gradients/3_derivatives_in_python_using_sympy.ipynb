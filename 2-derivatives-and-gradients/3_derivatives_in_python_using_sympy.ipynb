{
  "nbformat": 4,
  "nbformat_minor": 0,
  "metadata": {
    "colab": {
      "name": "3-derivatives-in-python-using-sympy.ipynb",
      "provenance": [],
      "collapsed_sections": [],
      "toc_visible": true,
      "include_colab_link": true
    },
    "kernelspec": {
      "display_name": "Julia",
      "language": "julia",
      "name": "julia"
    },
    "language_info": {
      "file_extension": ".jl",
      "mimetype": "application/julia",
      "name": "julia"
    }
  },
  "cells": [
    {
      "cell_type": "markdown",
      "metadata": {
        "id": "view-in-github",
        "colab_type": "text"
      },
      "source": [
        "<a href=\"https://colab.research.google.com/github/rahiakela/algorithms-for-optimization/blob/main/2-derivatives-and-gradients/3_derivatives_in_python_using_sympy.ipynb\" target=\"_parent\"><img src=\"https://colab.research.google.com/assets/colab-badge.svg\" alt=\"Open In Colab\"/></a>"
      ]
    },
    {
      "cell_type": "markdown",
      "metadata": {
        "id": "tQ1r1bbb0yBv"
      },
      "source": [
        "# Derivatives in Python Using Sympy\n"
      ]
    },
    {
      "cell_type": "markdown",
      "metadata": {
        "id": "m8pQ2z2k5RBv"
      },
      "source": [
        "Derivatives are the Fundamental tools of Calculus. It is very useful for optimizing a loss function with gradient descent in Machine Learning is possible only because of derivatives.\r\n",
        "\r\n",
        "Suppose we have a function y = f(x) which is dependent on x then the derivation of this function means the rate at which the value y of the function changes with change in x.\r\n",
        "\r\n",
        "Reference: https://www.askpython.com/python/examples/derivatives-in-python-sympy"
      ]
    },
    {
      "cell_type": "markdown",
      "metadata": {
        "id": "TS7WHNiF5RWQ"
      },
      "source": [
        "## Setup"
      ]
    },
    {
      "cell_type": "code",
      "metadata": {
        "id": "GIeFXS0F0zww"
      },
      "source": [
        "from sympy import *"
      ],
      "execution_count": 1,
      "outputs": []
    },
    {
      "cell_type": "markdown",
      "metadata": {
        "id": "P6SMJNXu6Kjo"
      },
      "source": [
        "## Solving a differential with Sympy diff()"
      ]
    },
    {
      "cell_type": "markdown",
      "metadata": {
        "id": "zuJjpuxK6LsQ"
      },
      "source": [
        "For differentiation, sympy provides us with the diff method to output the derivative of the function.\r\n",
        "\r\n",
        "- Suppose we have a function: $f(x) = x^²$\r\n",
        "- Derivative of the function w.r.t x : $f^{'}(x) = 2x$"
      ]
    },
    {
      "cell_type": "code",
      "metadata": {
        "id": "tytAeuaA1eau",
        "colab": {
          "base_uri": "https://localhost:8080/"
        },
        "outputId": "f05df063-58c8-40d7-eca0-cb76fa6c965c"
      },
      "source": [
        "# create a \"symbol\" called x\r\n",
        "x = Symbol(\"x\")\r\n",
        "\r\n",
        "# Define function\r\n",
        "f = x**2\r\n",
        "\r\n",
        "# Calculating Derivative\r\n",
        "f_prime = diff(f, x)\r\n",
        "f_prime"
      ],
      "execution_count": 2,
      "outputs": [
        {
          "output_type": "execute_result",
          "data": {
            "text/plain": [
              "2*x"
            ]
          },
          "metadata": {
            "tags": []
          },
          "execution_count": 2
        }
      ]
    },
    {
      "cell_type": "markdown",
      "metadata": {
        "id": "Py96INTlCXnT"
      },
      "source": [
        "## Solving derivatives in Python"
      ]
    },
    {
      "cell_type": "markdown",
      "metadata": {
        "id": "2WeCWQcUCY8M"
      },
      "source": [
        "Now to calculate the derivative of the function at x = 2 sympy has lambdify function in which we pass the symbol and the function."
      ]
    },
    {
      "cell_type": "code",
      "metadata": {
        "colab": {
          "base_uri": "https://localhost:8080/"
        },
        "id": "2bf6pCBxONOS",
        "outputId": "5826287e-683c-4457-a1dc-306be8a53592"
      },
      "source": [
        "# create a \"symbol\" called x\r\n",
        "x = Symbol(\"x\")\r\n",
        "\r\n",
        "# Define function\r\n",
        "f = x**2\r\n",
        "\r\n",
        "# Do Calculation\r\n",
        "f_prime = lambdify(x, f)\r\n",
        "\r\n",
        "# passing x=2 to the function\r\n",
        "f_prime(2)"
      ],
      "execution_count": 3,
      "outputs": [
        {
          "output_type": "execute_result",
          "data": {
            "text/plain": [
              "4"
            ]
          },
          "metadata": {
            "tags": []
          },
          "execution_count": 3
        }
      ]
    },
    {
      "cell_type": "markdown",
      "metadata": {
        "id": "NFMwO7j2Orf1"
      },
      "source": [
        "## Basic Derivative Rules in Python sympy"
      ]
    },
    {
      "cell_type": "markdown",
      "metadata": {
        "id": "-IkIsTkwOshS"
      },
      "source": [
        "There are certain rules we can use to calculate the derivative of differentiable functions.\r\n",
        "\r\n",
        "**Some of the most encountered rules are:**\r\n",
        "\r\n",
        "- Power Rule\r\n",
        "- Product Rule\r\n",
        "- Chain Rule\r\n",
        "- Quotient Rule\r\n",
        "\r\n",
        "Let’s dive into how can we actually use sympy to calculate derivatives as implied by the general differentiation rules."
      ]
    },
    {
      "cell_type": "markdown",
      "metadata": {
        "id": "rsWtC4bxPDul"
      },
      "source": [
        "### 1. Power Rule"
      ]
    },
    {
      "cell_type": "markdown",
      "metadata": {
        "id": "kPemuuvAPGrP"
      },
      "source": [
        "In general : $f^{'}(xn) = nx^{(n-1)}$\r\n",
        "\r\n",
        "Example, Function we have : $f(x) = x^5$\r\n",
        "\r\n",
        "It’s derivative will be : $f^{'}(x) = 5x^{(5-1)} = 5x^4$"
      ]
    },
    {
      "cell_type": "code",
      "metadata": {
        "colab": {
          "base_uri": "https://localhost:8080/"
        },
        "id": "WnJFkgLAOdal",
        "outputId": "027e4f82-df0f-4afd-d2e4-b18f6feddfa9"
      },
      "source": [
        "# create a \"symbol\" called x\r\n",
        "x = Symbol(\"x\")\r\n",
        "\r\n",
        "# Define function\r\n",
        "f = x**5\r\n",
        "\r\n",
        "# Calculating Derivative\r\n",
        "f_prime = diff(f, x)\r\n",
        "f_prime"
      ],
      "execution_count": 4,
      "outputs": [
        {
          "output_type": "execute_result",
          "data": {
            "text/plain": [
              "5*x**4"
            ]
          },
          "metadata": {
            "tags": []
          },
          "execution_count": 4
        }
      ]
    },
    {
      "cell_type": "code",
      "metadata": {
        "colab": {
          "base_uri": "https://localhost:8080/"
        },
        "id": "rPdnVezLP_LS",
        "outputId": "3473da90-bf51-4c2f-885a-90a1023c39f1"
      },
      "source": [
        "# Do Calculation\r\n",
        "f_p = lambdify(x, f_prime)\r\n",
        "\r\n",
        "# passing x=2 to the function\r\n",
        "f_p(2)"
      ],
      "execution_count": 5,
      "outputs": [
        {
          "output_type": "execute_result",
          "data": {
            "text/plain": [
              "80"
            ]
          },
          "metadata": {
            "tags": []
          },
          "execution_count": 5
        }
      ]
    },
    {
      "cell_type": "code",
      "metadata": {
        "colab": {
          "base_uri": "https://localhost:8080/"
        },
        "id": "n6KOGcYhQElH",
        "outputId": "e786c03b-32ab-41ac-c893-440aa8980750"
      },
      "source": [
        "# verify\r\n",
        "x = 2\r\n",
        "5 * x ** 4"
      ],
      "execution_count": 6,
      "outputs": [
        {
          "output_type": "execute_result",
          "data": {
            "text/plain": [
              "80"
            ]
          },
          "metadata": {
            "tags": []
          },
          "execution_count": 6
        }
      ]
    },
    {
      "cell_type": "markdown",
      "metadata": {
        "id": "KJHx1-NCQsXG"
      },
      "source": [
        "### 2. Product Rule"
      ]
    },
    {
      "cell_type": "markdown",
      "metadata": {
        "id": "I7AMtxZmGPJt"
      },
      "source": [
        "Let $u(x)$ and $v(x)$ be differentiable functions. Then the product of the functions $u(x)v(x)$ is also differentiable.\r\n",
        "\r\n",
        "```python\r\n",
        "(uv)′ = u′v + uv′\r\n",
        "```\r\n",
        "\r\n",
        "Example: $f(x) = exp(x)*cos(x)$"
      ]
    },
    {
      "cell_type": "code",
      "metadata": {
        "id": "iJp9L3rdQbWZ",
        "colab": {
          "base_uri": "https://localhost:8080/"
        },
        "outputId": "d48c3c2a-1df7-450f-b377-ef383127a4c1"
      },
      "source": [
        "# Product Rule\r\n",
        "x = Symbol(\"X\")\r\n",
        "f = exp(x) * cos(x)\r\n",
        "\r\n",
        "f_prime = diff(f, x)\r\n",
        "f_prime"
      ],
      "execution_count": 11,
      "outputs": [
        {
          "output_type": "execute_result",
          "data": {
            "text/plain": [
              "-exp(X)*sin(X) + exp(X)*cos(X)"
            ]
          },
          "metadata": {
            "tags": []
          },
          "execution_count": 11
        }
      ]
    },
    {
      "cell_type": "code",
      "metadata": {
        "colab": {
          "base_uri": "https://localhost:8080/"
        },
        "id": "c1T8sRaWGx3L",
        "outputId": "4565260a-4b1a-4202-b621-e80948354b95"
      },
      "source": [
        "# Do Calculation\r\n",
        "f_p = lambdify(x, f_prime)\r\n",
        "\r\n",
        "# passing x=2 to the function\r\n",
        "f_p(2)"
      ],
      "execution_count": 12,
      "outputs": [
        {
          "output_type": "execute_result",
          "data": {
            "text/plain": [
              "-9.79378201806761"
            ]
          },
          "metadata": {
            "tags": []
          },
          "execution_count": 12
        }
      ]
    },
    {
      "cell_type": "markdown",
      "metadata": {
        "id": "5LYPnAIoHFKC"
      },
      "source": [
        "### 3. Chain Rule"
      ]
    },
    {
      "cell_type": "markdown",
      "metadata": {
        "id": "cIhAWxseHF4n"
      },
      "source": [
        "The chain rule calculate the derivative of a composition of functions.\r\n",
        "\r\n",
        "- Say, we have a function $h(x) = f( g(x) )$\r\n",
        "- Then according to chain rule: $h^{'}(x) = f^{'}(g(x)) g^{'}(x)$\r\n",
        "- Example: $f(x) = cos(x^2)$\r\n",
        "\r\n",
        "This process can be extended for quotient rule also. It must be obvious by now that only the function is changing while the application process remains the same, the remaining is taken care of by the library itself."
      ]
    },
    {
      "cell_type": "code",
      "metadata": {
        "colab": {
          "base_uri": "https://localhost:8080/"
        },
        "id": "Y-asR3iQG8Ro",
        "outputId": "9202446c-d518-4b52-d703-0c6510e3addc"
      },
      "source": [
        "# Chain Rule\r\n",
        "x = Symbol(\"x\")\r\n",
        "f = cos(x**2)\r\n",
        "f_prime = diff(f, x)\r\n",
        "f_prime"
      ],
      "execution_count": 13,
      "outputs": [
        {
          "output_type": "execute_result",
          "data": {
            "text/plain": [
              "-2*x*sin(x**2)"
            ]
          },
          "metadata": {
            "tags": []
          },
          "execution_count": 13
        }
      ]
    },
    {
      "cell_type": "code",
      "metadata": {
        "colab": {
          "base_uri": "https://localhost:8080/"
        },
        "id": "cqOf5k5OIVXo",
        "outputId": "9405eef7-04a5-42a6-f0cf-ab5d0bc0a120"
      },
      "source": [
        "# Do Calculation\r\n",
        "f_p = lambdify(x, f_prime)\r\n",
        "\r\n",
        "# passing x=2 to the function\r\n",
        "f_p(2)"
      ],
      "execution_count": 14,
      "outputs": [
        {
          "output_type": "execute_result",
          "data": {
            "text/plain": [
              "3.027209981231713"
            ]
          },
          "metadata": {
            "tags": []
          },
          "execution_count": 14
        }
      ]
    },
    {
      "cell_type": "markdown",
      "metadata": {
        "id": "CdUGG1r1JFnH"
      },
      "source": [
        "## Derivatives of Multivariable Functions using sympy"
      ]
    },
    {
      "cell_type": "markdown",
      "metadata": {
        "id": "bDbIFdA7JGja"
      },
      "source": [
        "The examples we saw above just had one variable. But we are more likely to encounter functions having more than one variable in them. Such derivatives are generally referred to as partial derivative.\r\n",
        "\r\n",
        "A partial derivative of a multivariable function is a derivative with respect to one variable with all other variables held constant.\r\n",
        "\r\n",
        "**Example: $f(x,y) = x^4 + x * y^4$**\r\n",
        "\r\n",
        "Let’s partially differentiate the above derivatives in Python w.r.t $x$."
      ]
    },
    {
      "cell_type": "code",
      "metadata": {
        "colab": {
          "base_uri": "https://localhost:8080/"
        },
        "id": "gv1i5ZAUIdAM",
        "outputId": "879a5165-e1ed-4efe-f521-215a00c792a3"
      },
      "source": [
        "# Derivatives of multivariable function\r\n",
        "x, y = symbols(\"x y\")\r\n",
        "f = x ** 4 + x * y ** 4\r\n",
        "\r\n",
        "# Differentiating partially w.r.t x\r\n",
        "fx_prime = diff(f, x)\r\n",
        "fx_prime"
      ],
      "execution_count": 17,
      "outputs": [
        {
          "output_type": "execute_result",
          "data": {
            "text/plain": [
              "4*x**3 + y**4"
            ]
          },
          "metadata": {
            "tags": []
          },
          "execution_count": 17
        }
      ]
    },
    {
      "cell_type": "code",
      "metadata": {
        "colab": {
          "base_uri": "https://localhost:8080/"
        },
        "id": "w-M3Igs0K2dt",
        "outputId": "632ad879-4801-43fa-d351-7b8ee3eb3212"
      },
      "source": [
        "# Do Calculation\r\n",
        "fx_p = lambdify(x, fx_prime)\r\n",
        "\r\n",
        "# passing x=2 to the function\r\n",
        "fx_p(2)"
      ],
      "execution_count": 18,
      "outputs": [
        {
          "output_type": "execute_result",
          "data": {
            "text/plain": [
              "y**4 + 32"
            ]
          },
          "metadata": {
            "tags": []
          },
          "execution_count": 18
        }
      ]
    },
    {
      "cell_type": "markdown",
      "metadata": {
        "id": "5bGVk2W0LFFj"
      },
      "source": [
        "We use symbols method when the number of variables is more than 1. Now, differentiate the derivatives in Python partially w.r.t $y$."
      ]
    },
    {
      "cell_type": "code",
      "metadata": {
        "colab": {
          "base_uri": "https://localhost:8080/"
        },
        "id": "9BheojObLDDL",
        "outputId": "681b8131-3e5b-4f80-b570-346ddba8642d"
      },
      "source": [
        "# Differentiating partially w.r.t y\r\n",
        "fy_prime = diff(f, y)\r\n",
        "fy_prime"
      ],
      "execution_count": 19,
      "outputs": [
        {
          "output_type": "execute_result",
          "data": {
            "text/plain": [
              "4*x*y**3"
            ]
          },
          "metadata": {
            "tags": []
          },
          "execution_count": 19
        }
      ]
    },
    {
      "cell_type": "code",
      "metadata": {
        "colab": {
          "base_uri": "https://localhost:8080/"
        },
        "id": "1hztg2P9Lgk3",
        "outputId": "547194e5-5522-47a2-af9a-3bcda5edb687"
      },
      "source": [
        "# Do Calculation\r\n",
        "fy_p = lambdify(y, fy_prime)\r\n",
        "\r\n",
        "# passing y=2 to the function\r\n",
        "fy_p(2)"
      ],
      "execution_count": 20,
      "outputs": [
        {
          "output_type": "execute_result",
          "data": {
            "text/plain": [
              "32*x"
            ]
          },
          "metadata": {
            "tags": []
          },
          "execution_count": 20
        }
      ]
    },
    {
      "cell_type": "markdown",
      "metadata": {
        "id": "T_iJ3HCTL1kk"
      },
      "source": [
        "We can choose to partially differentiate function first w.r.t $x$ and then $y$."
      ]
    },
    {
      "cell_type": "code",
      "metadata": {
        "colab": {
          "base_uri": "https://localhost:8080/"
        },
        "id": "N7MtobUgLqBn",
        "outputId": "b1a4e983-678d-4dcb-e115-ec8981d90d56"
      },
      "source": [
        "# Differentiating partially w.r.t x and y\r\n",
        "fxy_prime = diff(f, x, y)\r\n",
        "fxy_prime"
      ],
      "execution_count": 21,
      "outputs": [
        {
          "output_type": "execute_result",
          "data": {
            "text/plain": [
              "4*y**3"
            ]
          },
          "metadata": {
            "tags": []
          },
          "execution_count": 21
        }
      ]
    },
    {
      "cell_type": "code",
      "metadata": {
        "colab": {
          "base_uri": "https://localhost:8080/"
        },
        "id": "35uTYeZRMGXL",
        "outputId": "4cffdb22-fd3e-482b-cddf-bd711c98c42f"
      },
      "source": [
        "# Do Calculation\r\n",
        "fxy_p = lambdify(y, fxy_prime)\r\n",
        "\r\n",
        "# passing y=3 to the function\r\n",
        "fxy_p(3)"
      ],
      "execution_count": 26,
      "outputs": [
        {
          "output_type": "execute_result",
          "data": {
            "text/plain": [
              "108"
            ]
          },
          "metadata": {
            "tags": []
          },
          "execution_count": 26
        }
      ]
    },
    {
      "cell_type": "markdown",
      "metadata": {
        "id": "-WsDP5hmMzwG"
      },
      "source": [
        "Derivatives are awesome and you should definitely get the idea behind it as they play a crucial role in Machine learning."
      ]
    }
  ]
}